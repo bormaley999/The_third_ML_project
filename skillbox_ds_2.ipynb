{
 "cells": [
  {
   "cell_type": "code",
   "execution_count": 237,
   "metadata": {},
   "outputs": [],
   "source": [
    "import sklearn # import Scikit-Learn library\n",
    "from sklearn.metrics import mean_absolute_error # import mean absolute error\n",
    "import pandas as pd # import pandas library\n",
    "import matplotlib.pyplot as plt # import MatPlotLib library\n",
    "import numpy as np # import NumPy"
   ]
  },
  {
   "cell_type": "code",
   "execution_count": 238,
   "metadata": {},
   "outputs": [],
   "source": [
    "money = pd.read_csv(\"usd_rate_2018-2019.csv\", delimiter = \",\")\n",
    "# read the dataset; the start date "
   ]
  },
  {
   "cell_type": "code",
   "execution_count": 239,
   "metadata": {},
   "outputs": [],
   "source": [
    "past = 7 * 4 # take the past 4 weeks \n",
    "future = 7 # we will predict the future values on 7 days ahead"
   ]
  },
  {
   "cell_type": "code",
   "execution_count": 240,
   "metadata": {},
   "outputs": [],
   "source": [
    "values = money[\"curs\"]"
   ]
  },
  {
   "cell_type": "code",
   "execution_count": 241,
   "metadata": {},
   "outputs": [
    {
     "data": {
      "text/plain": [
       "[<matplotlib.lines.Line2D at 0x1a1bff6f98>]"
      ]
     },
     "execution_count": 241,
     "metadata": {},
     "output_type": "execute_result"
    },
    {
     "data": {
      "image/png": "[encoded data removed]",
      "text/plain": [
       "<Figure size 432x288 with 1 Axes>"
      ]
     },
     "metadata": {
      "needs_background": "light"
     },
     "output_type": "display_data"
    }
   ],
   "source": [
    "plt.plot(values)"
   ]
  },
  {
   "cell_type": "code",
   "execution_count": 242,
   "metadata": {},
   "outputs": [],
   "source": [
    "start = past # counting from 28th day\n",
    "end = len(values) - future # end 7 days before end\n",
    "\n",
    "prepared = []\n",
    "\n",
    "\"\"\"The following for loops taking the past(28 days) \n",
    "and the future values(7 days) to create a table of combined values named \"prepared\"\n",
    "E.g.: We used a 29th value (56.3438) in the given dataset \"values\", took a value which was 28 days before and 7 days \n",
    "after and written to the table (not a vector\\vertical). Hence we have 397 rows x 35 columns table. \"\"\"\n",
    "\n",
    "for i in range (start, end):\n",
    "    past_and_future_value = values[(i - past): (i + future)] \n",
    "    # take the values from the past and the future\n",
    "    prepared.append(list(past_and_future_value)) \n",
    "    # append the values from \"past_and_future_value\" to the variable \"prepared\""
   ]
  },
  {
   "cell_type": "code",
   "execution_count": 243,
   "metadata": {},
   "outputs": [],
   "source": [
    "past_columns = [f\"past_{i}\" for i in range(past)] \n",
    "# taking all the values from from 0 to the variable \"past\" (28th days)\n",
    "# using list comprehension method to create a name to a list of values (28th days = value start)\n",
    "future_columns = [f\"future_{i}\" for i in range(future)]\n",
    "# the same approach as was used for \"past_columns\" list comprehension"
   ]
  },
  {
   "cell_type": "code",
   "execution_count": 244,
   "metadata": {},
   "outputs": [],
   "source": [
    "data_frame = pd.DataFrame(prepared, columns=(past_columns+future_columns)) \n",
    "# create a data frame(table) using Pandas"
   ]
  },
  {
   "cell_type": "markdown",
   "metadata": {},
   "source": [
    "## Using Linear Regerssion Model\n",
    "https://scikit-learn.org/stable/modules/generated/sklearn.linear_model.LinearRegression.html"
   ]
  },
  {
   "cell_type": "code",
   "execution_count": 245,
   "metadata": {},
   "outputs": [],
   "source": [
    "from sklearn.linear_model import LinearRegression"
   ]
  },
  {
   "cell_type": "code",
   "execution_count": 246,
   "metadata": {},
   "outputs": [],
   "source": [
    "LinReg = LinearRegression() # initializig Linear Regression"
   ]
  },
  {
   "cell_type": "code",
   "execution_count": 247,
   "metadata": {},
   "outputs": [
    {
     "data": {
      "text/plain": [
       "LinearRegression(copy_X=True, fit_intercept=True, n_jobs=None,\n",
       "         normalize=False)"
      ]
     },
     "execution_count": 247,
     "metadata": {},
     "output_type": "execute_result"
    }
   ],
   "source": [
    "LinearRegression()"
   ]
  },
  {
   "cell_type": "code",
   "execution_count": 248,
   "metadata": {},
   "outputs": [],
   "source": [
    "# training dataset\n",
    "X = data_frame[past_columns][:-1] # the dataset consists of all the values except the last day\n",
    "y = data_frame[future_columns][:-1]"
   ]
  },
  {
   "cell_type": "code",
   "execution_count": 249,
   "metadata": {},
   "outputs": [],
   "source": [
    "# test dataset \n",
    "X_test = data_frame[past_columns][-1:] # the dataset consists of all the value of the last day\n",
    "y_test = data_frame[future_columns][-1:]"
   ]
  },
  {
   "cell_type": "code",
   "execution_count": 250,
   "metadata": {},
   "outputs": [
    {
     "data": {
      "text/plain": [
       "LinearRegression(copy_X=True, fit_intercept=True, n_jobs=None,\n",
       "         normalize=False)"
      ]
     },
     "execution_count": 250,
     "metadata": {},
     "output_type": "execute_result"
    }
   ],
   "source": [
    "LinReg.fit(X,y) # applying Linear Regression to the test dataset"
   ]
  },
  {
   "cell_type": "code",
   "execution_count": 251,
   "metadata": {},
   "outputs": [],
   "source": [
    "prediction = LinReg.predict(X_test) # calling a prediction using Linear Regression model to Rubble"
   ]
  },
  {
   "cell_type": "code",
   "execution_count": 252,
   "metadata": {},
   "outputs": [
    {
     "data": {
      "text/plain": [
       "array([[64.16412047, 64.25996538, 64.25148978, 64.15781021, 64.17147762,\n",
       "        64.27480852, 64.41572127]])"
      ]
     },
     "execution_count": 252,
     "metadata": {},
     "output_type": "execute_result"
    }
   ],
   "source": [
    "prediction # predicted values of $ Exchange Rate to Rubble "
   ]
  },
  {
   "cell_type": "code",
   "execution_count": 253,
   "metadata": {},
   "outputs": [
    {
     "data": {
      "text/html": [
       "<div>\n",
       "<style scoped>\n",
       "    .dataframe tbody tr th:only-of-type {\n",
       "        vertical-align: middle;\n",
       "    }\n",
       "\n",
       "    .dataframe tbody tr th {\n",
       "        vertical-align: top;\n",
       "    }\n",
       "\n",
       "    .dataframe thead th {\n",
       "        text-align: right;\n",
       "    }\n",
       "</style>\n",
       "<table border=\"1\" class=\"dataframe\">\n",
       "  <thead>\n",
       "    <tr style=\"text-align: right;\">\n",
       "      <th></th>\n",
       "      <th>future_0</th>\n",
       "      <th>future_1</th>\n",
       "      <th>future_2</th>\n",
       "      <th>future_3</th>\n",
       "      <th>future_4</th>\n",
       "      <th>future_5</th>\n",
       "      <th>future_6</th>\n",
       "    </tr>\n",
       "  </thead>\n",
       "  <tbody>\n",
       "    <tr>\n",
       "      <th>396</th>\n",
       "      <td>63.706</td>\n",
       "      <td>64.1873</td>\n",
       "      <td>64.2888</td>\n",
       "      <td>64.4156</td>\n",
       "      <td>64.6407</td>\n",
       "      <td>65.067</td>\n",
       "      <td>65.4399</td>\n",
       "    </tr>\n",
       "  </tbody>\n",
       "</table>\n",
       "</div>"
      ],
      "text/plain": [
       "     future_0  future_1  future_2  future_3  future_4  future_5  future_6\n",
       "396    63.706   64.1873   64.2888   64.4156   64.6407    65.067   65.4399"
      ]
     },
     "execution_count": 253,
     "metadata": {},
     "output_type": "execute_result"
    }
   ],
   "source": [
    "y_test # actual values of $ Exchange Rates"
   ]
  },
  {
   "cell_type": "code",
   "execution_count": 254,
   "metadata": {},
   "outputs": [
    {
     "name": "stdout",
     "output_type": "stream",
     "text": [
      "NP.Linalg.Norm: 1.4763743816775192\n"
     ]
    }
   ],
   "source": [
    "print(\"NP.Linalg.Norm:\", np.linalg.norm(y_test - prediction)) # calling a vector normalisation "
   ]
  },
  {
   "cell_type": "code",
   "execution_count": 255,
   "metadata": {},
   "outputs": [
    {
     "name": "stdout",
     "output_type": "stream",
     "text": [
      "Mean Absolute Error: 0.4444969217982536\n"
     ]
    }
   ],
   "source": [
    "print(\"Mean Absolute Error:\", mean_absolute_error(y_test, prediction)) # calling a mean absolute error in Rubble"
   ]
  },
  {
   "cell_type": "code",
   "execution_count": 256,
   "metadata": {},
   "outputs": [
    {
     "data": {
      "text/plain": [
       "<matplotlib.legend.Legend at 0x1a18ad4ef0>"
      ]
     },
     "execution_count": 256,
     "metadata": {},
     "output_type": "execute_result"
    },
    {
     "data": {
      "image/png": "[encoded data removed]",
      "text/plain": [
       "<Figure size 432x288 with 1 Axes>"
      ]
     },
     "metadata": {
      "needs_background": "light"
     },
     "output_type": "display_data"
    }
   ],
   "source": [
    "\"\"\"Creating a function which will take the values from the dataset\"\"\"\n",
    "\n",
    "plt.plot(prediction[0], label = \"prediction\") \n",
    "# prediction = \"0\", because the list (data massive) consisting from one element\n",
    "plt.plot(y_test.iloc[0], label = \"real\")\n",
    "# y_test is using a dateframe through \"iloc\" method\n",
    "plt.legend()"
   ]
  },
  {
   "cell_type": "code",
   "execution_count": 257,
   "metadata": {},
   "outputs": [
    {
     "data": {
      "text/plain": [
       "404    66.2608\n",
       "405    66.4127\n",
       "406    66.7471\n",
       "407    66.4897\n",
       "408    66.6235\n",
       "409    66.9072\n",
       "410    66.5002\n",
       "411    66.0528\n",
       "412    65.9981\n",
       "413    65.5698\n",
       "414    65.4393\n",
       "415    65.4321\n",
       "416    65.1909\n",
       "417    64.4711\n",
       "418    63.8272\n",
       "419    64.1213\n",
       "420    64.4290\n",
       "421    64.2199\n",
       "422    63.8487\n",
       "423    63.9453\n",
       "424    63.7060\n",
       "425    64.1873\n",
       "426    64.2888\n",
       "427    64.4156\n",
       "428    64.6407\n",
       "429    65.0670\n",
       "430    65.4399\n",
       "431    65.1312\n",
       "Name: curs, dtype: float64"
      ]
     },
     "execution_count": 257,
     "metadata": {},
     "output_type": "execute_result"
    }
   ],
   "source": [
    "values[-28:] # values for the last 28 days"
   ]
  },
  {
   "cell_type": "code",
   "execution_count": 258,
   "metadata": {},
   "outputs": [
    {
     "data": {
      "text/plain": [
       "array([[64.90333765, 64.78479675, 64.74828077, 64.71906045, 64.72973192,\n",
       "        64.82666761, 64.79862495]])"
      ]
     },
     "execution_count": 258,
     "metadata": {},
     "output_type": "execute_result"
    }
   ],
   "source": [
    "LinReg.predict([values[-28:]]) # prediction for a week ahead (7days)"
   ]
  },
  {
   "cell_type": "markdown",
   "metadata": {},
   "source": [
    "## Using MLP Regressor Neural Network (Multi-layer Perceptron regressor).\n",
    "https://scikit-learn.org/stable/modules/generated/sklearn.neural_network.MLPRegressor.html"
   ]
  },
  {
   "cell_type": "code",
   "execution_count": 259,
   "metadata": {},
   "outputs": [],
   "source": [
    "\"\"\" Using MLP Regressor (Multi-layer Perceptron regressor) from Sckit-learn to make prediction\"\"\"\n",
    "from sklearn.neural_network import MLPRegressor\n",
    "MLP = MLPRegressor(random_state=42, max_iter = 2000, hidden_layer_sizes=(90,130), \n",
    "                  alpha=0.0001, solver = \"lbfgs\")"
   ]
  },
  {
   "cell_type": "code",
   "execution_count": 260,
   "metadata": {},
   "outputs": [
    {
     "data": {
      "text/plain": [
       "MLPRegressor(activation='relu', alpha=0.0001, batch_size='auto', beta_1=0.9,\n",
       "       beta_2=0.999, early_stopping=False, epsilon=1e-08,\n",
       "       hidden_layer_sizes=(90, 130), learning_rate='constant',\n",
       "       learning_rate_init=0.001, max_iter=2000, momentum=0.9,\n",
       "       n_iter_no_change=10, nesterovs_momentum=True, power_t=0.5,\n",
       "       random_state=42, shuffle=True, solver='lbfgs', tol=0.0001,\n",
       "       validation_fraction=0.1, verbose=False, warm_start=False)"
      ]
     },
     "execution_count": 260,
     "metadata": {},
     "output_type": "execute_result"
    }
   ],
   "source": [
    "MLP.fit(X,y)"
   ]
  },
  {
   "cell_type": "code",
   "execution_count": 261,
   "metadata": {},
   "outputs": [],
   "source": [
    "prediction = MLP.predict(X_test) # prediction using Neural Network "
   ]
  },
  {
   "cell_type": "code",
   "execution_count": 262,
   "metadata": {},
   "outputs": [
    {
     "name": "stdout",
     "output_type": "stream",
     "text": [
      "Results using  MLPRegressor Model\n",
      "NP.Linalg.Norm: 1.181944589377921\n",
      "Mean Absolute Error: 0.3237745027666473\n"
     ]
    }
   ],
   "source": [
    "print(\"Results using  MLPRegressor Model\")\n",
    "print(\"NP.Linalg.Norm:\", np.linalg.norm(y_test - prediction))\n",
    "print(\"Mean Absolute Error:\", mean_absolute_error(y_test, prediction))"
   ]
  },
  {
   "cell_type": "code",
   "execution_count": 263,
   "metadata": {},
   "outputs": [
    {
     "data": {
      "text/plain": [
       "<matplotlib.legend.Legend at 0x1a1c221e80>"
      ]
     },
     "execution_count": 263,
     "metadata": {},
     "output_type": "execute_result"
    },
    {
     "data": {
      "image/png": "[encoded data removed]",
      "text/plain": [
       "<Figure size 432x288 with 1 Axes>"
      ]
     },
     "metadata": {
      "needs_background": "light"
     },
     "output_type": "display_data"
    }
   ],
   "source": [
    "\"\"\"Creating a function which will take the values from the dataset\"\"\"\n",
    "\n",
    "plt.plot(prediction[0], label = \"prediction\") \n",
    "# prediction = \"0\", because the list (data massive) consisting from one element\n",
    "plt.plot(y_test.iloc[0], label = \"real\")\n",
    "# y_test is using a dateframe through \"iloc\" method\n",
    "plt.legend()"
   ]
  },
  {
   "cell_type": "markdown",
   "metadata": {},
   "source": [
    "## Using Lasso Linear Model\n",
    "https://scikit-learn.org/stable/modules/generated/sklearn.linear_model.Lasso.html"
   ]
  },
  {
   "cell_type": "code",
   "execution_count": 264,
   "metadata": {},
   "outputs": [],
   "source": [
    "from sklearn.linear_model import Lasso"
   ]
  },
  {
   "cell_type": "code",
   "execution_count": 265,
   "metadata": {},
   "outputs": [],
   "source": [
    "# training dataset\n",
    "X = data_frame[past_columns][:-1]\n",
    "y = data_frame[future_columns][:-1]"
   ]
  },
  {
   "cell_type": "code",
   "execution_count": 266,
   "metadata": {},
   "outputs": [],
   "source": [
    "# test dataset \n",
    "X_test = data_frame[past_columns][-1:]\n",
    "y_test = data_frame[future_columns][-1:]"
   ]
  },
  {
   "cell_type": "code",
   "execution_count": 267,
   "metadata": {},
   "outputs": [],
   "source": [
    "model = Lasso(random_state=42, max_iter = 5000)"
   ]
  },
  {
   "cell_type": "code",
   "execution_count": 268,
   "metadata": {},
   "outputs": [
    {
     "data": {
      "text/plain": [
       "Lasso(alpha=1.0, copy_X=True, fit_intercept=True, max_iter=5000,\n",
       "   normalize=False, positive=False, precompute=False, random_state=42,\n",
       "   selection='cyclic', tol=0.0001, warm_start=False)"
      ]
     },
     "execution_count": 268,
     "metadata": {},
     "output_type": "execute_result"
    }
   ],
   "source": [
    "model.fit(X,y)"
   ]
  },
  {
   "cell_type": "code",
   "execution_count": 269,
   "metadata": {},
   "outputs": [],
   "source": [
    "prediction = model.predict(X_test) # calling a prediction using Lasso model to Rubble"
   ]
  },
  {
   "cell_type": "code",
   "execution_count": 270,
   "metadata": {},
   "outputs": [
    {
     "name": "stdout",
     "output_type": "stream",
     "text": [
      "Results using Lasso Model\n",
      "NP.Linalg.Norm: 1.51350330567727\n",
      "Mean Absolute Error: 0.4566764587572152\n"
     ]
    }
   ],
   "source": [
    "print(\"Results using Lasso Model\")\n",
    "print(\"NP.Linalg.Norm:\", np.linalg.norm(y_test - prediction))\n",
    "print(\"Mean Absolute Error:\", mean_absolute_error(y_test, prediction))"
   ]
  },
  {
   "cell_type": "code",
   "execution_count": 271,
   "metadata": {},
   "outputs": [
    {
     "data": {
      "text/plain": [
       "<matplotlib.legend.Legend at 0x1a1c437320>"
      ]
     },
     "execution_count": 271,
     "metadata": {},
     "output_type": "execute_result"
    },
    {
     "data": {
      "image/png": "[encoded data removed]",
      "text/plain": [
       "<Figure size 432x288 with 1 Axes>"
      ]
     },
     "metadata": {
      "needs_background": "light"
     },
     "output_type": "display_data"
    }
   ],
   "source": [
    "\"\"\"Creating a function which will take the values from the dataset\"\"\"\n",
    "\n",
    "plt.plot(prediction[0], label = \"prediction\") \n",
    "# prediction = \"0\", because the list (data massive) consisting from one element\n",
    "plt.plot(y_test.iloc[0], label = \"real\")\n",
    "# y_test is using a dateframe through \"iloc\" method\n",
    "plt.legend()"
   ]
  },
  {
   "cell_type": "markdown",
   "metadata": {},
   "source": [
    "## Using KNeighborsRegressor\n",
    "https://scikit-learn.org/stable/modules/generated/sklearn.neighbors.KNeighborsRegressor.html"
   ]
  },
  {
   "cell_type": "code",
   "execution_count": 272,
   "metadata": {},
   "outputs": [],
   "source": [
    "from sklearn.neighbors import KNeighborsRegressor"
   ]
  },
  {
   "cell_type": "code",
   "execution_count": 273,
   "metadata": {},
   "outputs": [],
   "source": [
    "# training dataset\n",
    "X = data_frame[past_columns][:-1]\n",
    "y = data_frame[future_columns][:-1]"
   ]
  },
  {
   "cell_type": "code",
   "execution_count": 274,
   "metadata": {},
   "outputs": [],
   "source": [
    "# test dataset \n",
    "X_test = data_frame[past_columns][-1:]\n",
    "y_test = data_frame[future_columns][-1:]"
   ]
  },
  {
   "cell_type": "code",
   "execution_count": 275,
   "metadata": {},
   "outputs": [],
   "source": [
    "KNReg = KNeighborsRegressor(leaf_size=40, n_neighbors=7, weights='distance')"
   ]
  },
  {
   "cell_type": "code",
   "execution_count": 276,
   "metadata": {},
   "outputs": [
    {
     "data": {
      "text/plain": [
       "KNeighborsRegressor(algorithm='auto', leaf_size=40, metric='minkowski',\n",
       "          metric_params=None, n_jobs=None, n_neighbors=7, p=2,\n",
       "          weights='distance')"
      ]
     },
     "execution_count": 276,
     "metadata": {},
     "output_type": "execute_result"
    }
   ],
   "source": [
    "KNReg.fit(X,y)"
   ]
  },
  {
   "cell_type": "code",
   "execution_count": 277,
   "metadata": {},
   "outputs": [],
   "source": [
    "prediction = KNReg.predict(X_test) # calling a prediction using KNeighborsRegressor model to Rubble"
   ]
  },
  {
   "cell_type": "code",
   "execution_count": 278,
   "metadata": {},
   "outputs": [
    {
     "name": "stdout",
     "output_type": "stream",
     "text": [
      "Results using KNeighborsRegressor Model\n",
      "NP.Linalg.Norm: 0.9804035083241216\n",
      "Mean Absolute Error: 0.3259755384233947\n"
     ]
    }
   ],
   "source": [
    "print(\"Results using KNeighborsRegressor Model\")\n",
    "print(\"NP.Linalg.Norm:\", np.linalg.norm(y_test - prediction))\n",
    "print(\"Mean Absolute Error:\", mean_absolute_error(y_test, prediction))"
   ]
  },
  {
   "cell_type": "code",
   "execution_count": 279,
   "metadata": {},
   "outputs": [
    {
     "data": {
      "text/plain": [
       "<matplotlib.legend.Legend at 0x1a1c24e390>"
      ]
     },
     "execution_count": 279,
     "metadata": {},
     "output_type": "execute_result"
    },
    {
     "data": {
      "image/png": "[encoded data removed]",
      "text/plain": [
       "<Figure size 432x288 with 1 Axes>"
      ]
     },
     "metadata": {
      "needs_background": "light"
     },
     "output_type": "display_data"
    }
   ],
   "source": [
    "\"\"\"Creating a function which will take the values from the dataset\"\"\"\n",
    "\n",
    "plt.plot(prediction[0], label = \"prediction\") \n",
    "# prediction = \"0\", because the list (data massive) consisting from one element\n",
    "plt.plot(y_test.iloc[0], label = \"real\")\n",
    "# y_test is using a dateframe through \"iloc\" method\n",
    "plt.legend()"
   ]
  },
  {
   "cell_type": "markdown",
   "metadata": {},
   "source": [
    "## MultiTaskElasticNet Model\n",
    "https://scikit-learn.org/stable/modules/generated/sklearn.linear_model.MultiTaskElasticNet.html#sklearn.linear_model.MultiTaskElasticNet"
   ]
  },
  {
   "cell_type": "code",
   "execution_count": 280,
   "metadata": {},
   "outputs": [],
   "source": [
    "from sklearn.linear_model import MultiTaskElasticNet"
   ]
  },
  {
   "cell_type": "code",
   "execution_count": 281,
   "metadata": {},
   "outputs": [],
   "source": [
    "# training dataset\n",
    "X = data_frame[past_columns][:-1]\n",
    "y = data_frame[future_columns][:-1]"
   ]
  },
  {
   "cell_type": "code",
   "execution_count": 282,
   "metadata": {},
   "outputs": [],
   "source": [
    "# test dataset \n",
    "X_test = data_frame[past_columns][-1:]\n",
    "y_test = data_frame[future_columns][-1:]"
   ]
  },
  {
   "cell_type": "code",
   "execution_count": 283,
   "metadata": {},
   "outputs": [],
   "source": [
    "MTEN = MultiTaskElasticNet(random_state = 42, max_iter=2500, selection='random', tol=0.0003, l1_ratio=0.2)"
   ]
  },
  {
   "cell_type": "code",
   "execution_count": 284,
   "metadata": {},
   "outputs": [
    {
     "data": {
      "text/plain": [
       "MultiTaskElasticNet(alpha=1.0, copy_X=True, fit_intercept=True, l1_ratio=0.2,\n",
       "          max_iter=2500, normalize=False, random_state=42,\n",
       "          selection='random', tol=0.0003, warm_start=False)"
      ]
     },
     "execution_count": 284,
     "metadata": {},
     "output_type": "execute_result"
    }
   ],
   "source": [
    "MTEN.fit(X,y)"
   ]
  },
  {
   "cell_type": "code",
   "execution_count": 285,
   "metadata": {},
   "outputs": [],
   "source": [
    "prediction = MTEN.predict(X_test) # calling a prediction using MultiTaskElasticNet model to Rubble"
   ]
  },
  {
   "cell_type": "code",
   "execution_count": 286,
   "metadata": {},
   "outputs": [
    {
     "name": "stdout",
     "output_type": "stream",
     "text": [
      "Results using MultiTaskElasticNet Model\n",
      "NP.Linalg.Norm: 1.3500289158556211\n",
      "Mean Absolute Error: 0.3738436715934869\n"
     ]
    }
   ],
   "source": [
    "print(\"Results using MultiTaskElasticNet Model\")\n",
    "print(\"NP.Linalg.Norm:\", np.linalg.norm(y_test - prediction))\n",
    "print(\"Mean Absolute Error:\", mean_absolute_error(y_test, prediction))"
   ]
  },
  {
   "cell_type": "code",
   "execution_count": 287,
   "metadata": {},
   "outputs": [
    {
     "data": {
      "text/plain": [
       "<matplotlib.legend.Legend at 0x1a1c3796d8>"
      ]
     },
     "execution_count": 287,
     "metadata": {},
     "output_type": "execute_result"
    },
    {
     "data": {
      "image/png": "[encoded data removed]",
      "text/plain": [
       "<Figure size 432x288 with 1 Axes>"
      ]
     },
     "metadata": {
      "needs_background": "light"
     },
     "output_type": "display_data"
    }
   ],
   "source": [
    "\"\"\"Creating a function which will take the values from the dataset\"\"\"\n",
    "\n",
    "plt.plot(prediction[0], label = \"prediction\") \n",
    "# prediction = \"0\", because the list (data massive) consisting from one element\n",
    "plt.plot(y_test.iloc[0], label = \"real\")\n",
    "# y_test is using a dateframe through \"iloc\" method\n",
    "plt.legend()"
   ]
  },
  {
   "cell_type": "markdown",
   "metadata": {},
   "source": [
    "## ElasticNet Model\n",
    "https://scikit-learn.org/stable/modules/generated/sklearn.linear_model.ElasticNet.html#sklearn.linear_model.ElasticNet"
   ]
  },
  {
   "cell_type": "code",
   "execution_count": 288,
   "metadata": {},
   "outputs": [],
   "source": [
    "from sklearn.linear_model import ElasticNet"
   ]
  },
  {
   "cell_type": "code",
   "execution_count": 289,
   "metadata": {},
   "outputs": [],
   "source": [
    "# training dataset\n",
    "X = data_frame[past_columns][:-1]\n",
    "y = data_frame[future_columns][:-1]"
   ]
  },
  {
   "cell_type": "code",
   "execution_count": 290,
   "metadata": {},
   "outputs": [],
   "source": [
    "# test dataset \n",
    "X_test = data_frame[past_columns][-1:]\n",
    "y_test = data_frame[future_columns][-1:]"
   ]
  },
  {
   "cell_type": "code",
   "execution_count": 306,
   "metadata": {},
   "outputs": [],
   "source": [
    "EN = ElasticNet(random_state = 42, max_iter=3000, l1_ratio=0.2, selection=\"cyclic\")"
   ]
  },
  {
   "cell_type": "code",
   "execution_count": 308,
   "metadata": {},
   "outputs": [
    {
     "data": {
      "text/plain": [
       "ElasticNet(alpha=1.0, copy_X=True, fit_intercept=True, l1_ratio=0.2,\n",
       "      max_iter=3000, normalize=False, positive=False, precompute=False,\n",
       "      random_state=42, selection='cyclic', tol=0.0001, warm_start=False)"
      ]
     },
     "execution_count": 308,
     "metadata": {},
     "output_type": "execute_result"
    }
   ],
   "source": [
    "EN.fit(X,y)"
   ]
  },
  {
   "cell_type": "code",
   "execution_count": 304,
   "metadata": {},
   "outputs": [],
   "source": [
    "prediction = EN.predict(X_test) # calling a prediction using ElasticNet model to Rubble"
   ]
  },
  {
   "cell_type": "code",
   "execution_count": 309,
   "metadata": {},
   "outputs": [
    {
     "name": "stdout",
     "output_type": "stream",
     "text": [
      "Results using ElasticNet Model\n",
      "NP.Linalg.Norm: 1.3451817859289237\n",
      "Mean Absolute Error: 0.37836060614702866\n"
     ]
    }
   ],
   "source": [
    "print(\"Results using ElasticNet Model\")\n",
    "print(\"NP.Linalg.Norm:\", np.linalg.norm(y_test - prediction))\n",
    "print(\"Mean Absolute Error:\", mean_absolute_error(y_test, prediction))"
   ]
  },
  {
   "cell_type": "code",
   "execution_count": 295,
   "metadata": {},
   "outputs": [
    {
     "data": {
      "text/plain": [
       "<matplotlib.legend.Legend at 0x1a1c51d978>"
      ]
     },
     "execution_count": 295,
     "metadata": {},
     "output_type": "execute_result"
    },
    {
     "data": {
      "image/png": "[encoded data removed]",
      "text/plain": [
       "<Figure size 432x288 with 1 Axes>"
      ]
     },
     "metadata": {
      "needs_background": "light"
     },
     "output_type": "display_data"
    }
   ],
   "source": [
    "\"\"\"Creating a function which will take the values from the dataset\"\"\"\n",
    "\n",
    "plt.plot(prediction[0], label = \"prediction\") \n",
    "# prediction = \"0\", because the list (data massive) consisting from one element\n",
    "plt.plot(y_test.iloc[0], label = \"real\")\n",
    "# y_test is using a dateframe through \"iloc\" method\n",
    "plt.legend()"
   ]
  },
  {
   "cell_type": "markdown",
   "metadata": {},
   "source": [
    "## Ensemble BaggingRegressor Model\n",
    "https://scikit-learn.org/stable/modules/generated/sklearn.ensemble.BaggingRegressor.html#sklearn.ensemble.BaggingRegressor"
   ]
  },
  {
   "cell_type": "code",
   "execution_count": 343,
   "metadata": {},
   "outputs": [],
   "source": [
    "from sklearn.ensemble import BaggingRegressor"
   ]
  },
  {
   "cell_type": "code",
   "execution_count": 344,
   "metadata": {},
   "outputs": [],
   "source": [
    "# training dataset\n",
    "X = data_frame[past_columns][:-1]\n",
    "y = data_frame[future_columns][:-1]"
   ]
  },
  {
   "cell_type": "code",
   "execution_count": 345,
   "metadata": {},
   "outputs": [],
   "source": [
    "# test dataset \n",
    "X_test = data_frame[past_columns][-1:]\n",
    "y_test = data_frame[future_columns][-1:]"
   ]
  },
  {
   "cell_type": "code",
   "execution_count": 406,
   "metadata": {},
   "outputs": [],
   "source": [
    "BG = BaggingRegressor(random_state=42)"
   ]
  },
  {
   "cell_type": "code",
   "execution_count": 407,
   "metadata": {},
   "outputs": [
    {
     "data": {
      "text/plain": [
       "BaggingRegressor(base_estimator=None, bootstrap=True,\n",
       "         bootstrap_features=False, max_features=1.0, max_samples=1.0,\n",
       "         n_estimators=10, n_jobs=None, oob_score=False, random_state=42,\n",
       "         verbose=0, warm_start=False)"
      ]
     },
     "execution_count": 407,
     "metadata": {},
     "output_type": "execute_result"
    }
   ],
   "source": [
    "BG.fit(X,y)"
   ]
  },
  {
   "cell_type": "code",
   "execution_count": 408,
   "metadata": {},
   "outputs": [],
   "source": [
    "prediction = BG.predict(X_test) # calling a prediction using Ensemble Bagging Regressor Model to Rubble"
   ]
  },
  {
   "cell_type": "code",
   "execution_count": 409,
   "metadata": {},
   "outputs": [
    {
     "name": "stdout",
     "output_type": "stream",
     "text": [
      "Results using Bagging Regressor Model\n",
      "NP.Linalg.Norm: 0.9035717651631096\n",
      "Mean Absolute Error: 0.2268457142857098\n"
     ]
    }
   ],
   "source": [
    "print(\"Results using Bagging Regressor Model\")\n",
    "print(\"NP.Linalg.Norm:\", np.linalg.norm(y_test - prediction))\n",
    "print(\"Mean Absolute Error:\", mean_absolute_error(y_test, prediction))"
   ]
  },
  {
   "cell_type": "code",
   "execution_count": 352,
   "metadata": {},
   "outputs": [
    {
     "data": {
      "text/plain": [
       "<matplotlib.legend.Legend at 0x1a1c749b70>"
      ]
     },
     "execution_count": 352,
     "metadata": {},
     "output_type": "execute_result"
    },
    {
     "data": {
      "image/png": "[encoded data removed]",
      "text/plain": [
       "<Figure size 432x288 with 1 Axes>"
      ]
     },
     "metadata": {
      "needs_background": "light"
     },
     "output_type": "display_data"
    }
   ],
   "source": [
    "\"\"\"Creating a function which will take the values from the dataset\"\"\"\n",
    "\n",
    "plt.plot(prediction[0], label = \"prediction\") \n",
    "# prediction = \"0\", because the list (data massive) consisting from one element\n",
    "plt.plot(y_test.iloc[0], label = \"real\")\n",
    "# y_test is using a dateframe through \"iloc\" method\n",
    "plt.legend()"
   ]
  },
  {
   "cell_type": "markdown",
   "metadata": {},
   "source": [
    "## Overall Model Results\n",
    "#### 1. Results using Bagging Regressor Model\n",
    "NP.Linalg.Norm: 0.9035717651631096 -> the best one\n",
    "<br>\n",
    "Mean Absolute Error: 0.2268457142857098 -> the best one\n",
    "\n",
    "#### 2. Results using KNeighborsRegressor Model\n",
    "NP.Linalg.Norm: 0.9804035083241216\n",
    "<br>\n",
    "Mean Absolute Error: 0.3259755384233947\n",
    "\n",
    "#### 3. Results for a MLP Regressor Neural Network:\n",
    "NP.Linalg.Norm: 1.181944589377921\n",
    "<br>\n",
    "Mean Absolute Error: 0.3237745027666473\n",
    "\n",
    "#### 4. Results using MultiTaskElasticNet Model\n",
    "NP.Linalg.Norm: 1.3500289158556211\n",
    "<br>\n",
    "Mean Absolute Error: 0.3738436715934869\n",
    "\n",
    "#### 5. Results using ElasticNet Model\n",
    "NP.Linalg.Norm: 1.3451817859289237\n",
    "<br>\n",
    "Mean Absolute Error: 0.37836060614702866\n",
    "\n",
    "#### 6. Results for a Linear Regression Model:\n",
    "NP.Linalg.Norm: 1.4763743816775192\n",
    "<br>\n",
    "Mean Absolute Error: 0.4444969217982536\n",
    "\n",
    "#### 7. Results using Lasso Model\n",
    "NP.Linalg.Norm: 1.51350330567727\n",
    "<br>\n",
    "Mean Absolute Error: 0.4566764587572152"
   ]
  },
  {
   "cell_type": "markdown",
   "metadata": {},
   "source": [
    "### Summary \\ Observation\n",
    "The model **Bagging Regressor Model** has shown the best result. I assume because the model fits base regressors each on random subsets of the original dataset and then aggregate their individual predictions to form a final prediction (the explanation is taken from the official Sckit-Learn documentation). The results have been acquired by using a default hyperparameters of the model (except for \"random_state\" parameter which is similar for every model in this job).\n",
    "<br>\n",
    "Also, this model has used The Decision Tree approach (estimator) has proven useful for another model - **KNeighborsRegressor** which has the second-best result. The parameters *\"leaf_size\"* and *\"n_neighbors\"* have influenced model performance.\n",
    "<br>\n",
    "The third result has been taken by the **MLP Regressor Neural Network**. I assume, if I had uploaded larger dataset the results could be better. Additionally, hyper-parameters such as *\"max_iter\"* and *\"hidden_layer_sizes\"* have influenced much on the model performance.\n",
    "<br>\n",
    "The fourth and fifth results are represented by the **ElasticNet and the MultTaskElasticNet** models which have shown somewhat similar results. I noticed that changing hyperparameters *\"l1_ratio\"* and *\"selection\"* affects performance.\n",
    "<br>\n",
    "The sixth result is represented by **Linear Regression Model**. I noticed that changing *\"n_jobs\"* affects the model performance.\n",
    "<br>\n",
    "The seventh and the worst result have shown by **Lasso model**. I noticed that tunning *\"max_iter\"* parameter affects the model behaviuor."
   ]
  }
 ],
 "metadata": {
  "kernelspec": {
   "display_name": "Python 3",
   "language": "python",
   "name": "python3"
  },
  "language_info": {
   "codemirror_mode": {
    "name": "ipython",
    "version": 3
   },
   "file_extension": ".py",
   "mimetype": "text/x-python",
   "name": "python",
   "nbconvert_exporter": "python",
   "pygments_lexer": "ipython3",
   "version": "3.7.3"
  }
 },
 "nbformat": 4,
 "nbformat_minor": 2
}
